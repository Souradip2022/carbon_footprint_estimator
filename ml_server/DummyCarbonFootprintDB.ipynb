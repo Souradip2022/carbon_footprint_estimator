{
  "nbformat": 4,
  "nbformat_minor": 0,
  "metadata": {
    "colab": {
      "provenance": []
    },
    "kernelspec": {
      "name": "python3",
      "display_name": "Python 3"
    },
    "language_info": {
      "name": "python"
    }
  },
  "cells": [
    {
      "cell_type": "code",
      "source": [
        "import pandas as pd\n",
        "\n",
        "# Create the data as a dictionary\n",
        "data = {\n",
        "    \"Object\": [\n",
        "        \"person\", \"bicycle\", \"car\", \"motorbike\", \"aeroplane\", \"bus\", \"train\", \"truck\", \"boat\",\n",
        "        \"traffic light\", \"fire hydrant\", \"stop sign\", \"parking meter\", \"bench\", \"bird\", \"cat\",\n",
        "        \"dog\", \"horse\", \"sheep\", \"cow\", \"elephant\", \"bear\", \"zebra\", \"giraffe\", \"backpack\", \"umbrella\",\n",
        "        \"handbag\", \"tie\", \"suitcase\", \"frisbee\", \"skis\", \"snowboard\", \"sports ball\", \"kite\", \"baseball bat\",\n",
        "        \"baseball glove\", \"skateboard\", \"surfboard\", \"tennis racket\", \"bottle\", \"wine glass\", \"cup\",\n",
        "        \"fork\", \"knife\", \"spoon\", \"bowl\", \"banana\", \"apple\", \"sandwich\", \"orange\", \"broccoli\",\n",
        "        \"carrot\", \"hot dog\", \"pizza\", \"donut\", \"cake\", \"chair\", \"sofa\", \"potted plant\", \"bed\",\n",
        "        \"dining table\", \"toilet\", \"tv monitor\", \"laptop\", \"mouse\", \"remote\", \"keyboard\", \"cell phone\",\n",
        "        \"microwave\", \"oven\", \"toaster\", \"sink\", \"refrigerator\", \"book\", \"clock\", \"vase\", \"scissors\",\n",
        "        \"teddy bear\", \"hair drier\", \"toothbrush\"\n",
        "    ],\n",
        "    \"Carbon Footprint (kg CO2e)\": [\n",
        "        0.00, 100.00, 6000.00, 1000.00, 2850.00, 300.00, 1500.00, 5000.00, 500.00,\n",
        "        20.00, 150.00, 5.00, 50.00, 50.00, 0.00, 0.00, 0.00, 0.00, 0.00, 0.00, 0.00, 0.00, 0.00, 0.00, 3.50, 0.50,\n",
        "        8.00, 0.20, 10.00, 0.20, 30.00, 50.00, 1.00, 0.10, 2.00, 3.00, 10.00, 30.00, 3.00, 0.20, 0.20, 0.15, 0.05,\n",
        "        0.05, 0.05, 0.50, 0.22, 0.30, 1.00, 0.20, 0.60, 0.10, 1.80, 2.50, 1.50, 4.00, 10.00, 100.00, 2.00, 200.00,\n",
        "        100.00, 80.00, 100.00, 200.00, 1.00, 1.00, 2.00, 80.00, 150.00, 200.00, 50.00, 100.00, 300.00, 1.00, 5.00,\n",
        "        0.30, 0.10, 2.00, 5.00, 0.05\n",
        "    ]\n",
        "}\n",
        "\n",
        "# Create a DataFrame from the data\n",
        "df = pd.DataFrame(data)\n",
        "\n",
        "# Save the DataFrame to an Excel file\n",
        "df.to_excel(\"carbon_footprint_database.xlsx\", index=False)\n"
      ],
      "metadata": {
        "id": "6c4w2us-EoWB"
      },
      "execution_count": 1,
      "outputs": []
    },
    {
      "cell_type": "code",
      "source": [],
      "metadata": {
        "id": "HT1MpvuAErpR"
      },
      "execution_count": null,
      "outputs": []
    }
  ]
}